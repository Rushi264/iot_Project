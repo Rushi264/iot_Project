{
 "cells": [
  {
   "cell_type": "code",
   "execution_count": null,
   "id": "e052c488",
   "metadata": {},
   "outputs": [],
   "source": [
    "!pip install requests"
   ]
  },
  {
   "cell_type": "code",
   "execution_count": null,
   "id": "af49870a",
   "metadata": {},
   "outputs": [],
   "source": [
    "\n",
    "import requests\n",
    "import random\n",
    "import time\n",
    "from datetime import datetime, timedelta\n",
    "\n",
    "API_KEY = \"82C72VKGF0TR7PJJ\"         # Write API Key\n",
    "READ_API_KEY = \"0AUWKIAQO4AINI71\"    # Read API Key\n",
    "CHANNEL_ID = 2894456                 # ThingSpeak Channel ID\n",
    "THING_SPEAK_URL = \"https://api.thingspeak.com/update\"\n"
   ]
  },
  {
   "cell_type": "code",
   "execution_count": null,
   "id": "24a691a6",
   "metadata": {},
   "outputs": [],
   "source": [
    "\n",
    "def generate_sensor_data():\n",
    "    return {\n",
    "        \"field1\": round(random.uniform(-50, 50), 1),\n",
    "        \"field2\": round(random.uniform(0, 100), 1),\n",
    "        \"field3\": round(random.uniform(300, 2000), 1)\n",
    "    }\n",
    "\n",
    "def send_data_to_thingspeak():\n",
    "    for _ in range(5):\n",
    "        data = generate_sensor_data()\n",
    "        payload = {\n",
    "            \"api_key\": API_KEY,\n",
    "            **data\n",
    "        }\n",
    "        print(f\"Sending: {payload}\")\n",
    "        response = requests.post(THING_SPEAK_URL, data=payload)\n",
    "        print(f\"Status: {response.status_code} | Entry ID: {response.text}\")\n",
    "        time.sleep(15)\n",
    "\n",
    "send_data_to_thingspeak()\n"
   ]
  },
  {
   "cell_type": "code",
   "execution_count": null,
   "id": "c462a36a",
   "metadata": {},
   "outputs": [],
   "source": [
    "\n",
    "def get_latest_values():\n",
    "    url = f\"https://api.thingspeak.com/channels/{CHANNEL_ID}/feeds.json?api_key={READ_API_KEY}&results=1\"\n",
    "    response = requests.get(url)\n",
    "    if response.status_code == 200:\n",
    "        latest = response.json()['feeds'][0]\n",
    "        print(\"📊 Latest Sensor Data:\")\n",
    "        print(f\"Timestamp: {latest['created_at']}\")\n",
    "        print(f\"Temperature: {latest['field1']} °C\")\n",
    "        print(f\"Humidity: {latest['field2']} %\")\n",
    "        print(f\"CO₂: {latest['field3']} ppm\")\n",
    "    else:\n",
    "        print(\"❌ Error fetching data\")\n",
    "\n",
    "get_latest_values()\n"
   ]
  },
  {
   "cell_type": "code",
   "execution_count": null,
   "id": "34ea90de",
   "metadata": {},
   "outputs": [],
   "source": [
    "\n",
    "def get_last_5_hours(sensor_field=\"field3\"):\n",
    "    url = f\"https://api.thingspeak.com/channels/{CHANNEL_ID}/feeds.json?api_key={READ_API_KEY}&results=100\"\n",
    "    response = requests.get(url)\n",
    "    \n",
    "    if response.status_code == 200:\n",
    "        feeds = response.json().get('feeds', [])\n",
    "        print(f\"📈 {sensor_field} Data in Last 5 Hours:\")\n",
    "        \n",
    "        for feed in feeds:\n",
    "            value = feed.get(sensor_field)\n",
    "            if value is not None:\n",
    "                timestamp = datetime.strptime(feed['created_at'], \"%Y-%m-%dT%H:%M:%SZ\")\n",
    "                if datetime.utcnow() - timestamp <= timedelta(hours=5):\n",
    "                    print(f\"{timestamp} => {sensor_field}: {value}\")\n",
    "    else:\n",
    "        print(\"❌ Error fetching data. Status:\", response.status_code)\n",
    "\n",
    "# Example:\n",
    "get_last_5_hours(\"field3\")\n"
   ]
  }
 ],
 "metadata": {},
 "nbformat": 4,
 "nbformat_minor": 5
}
