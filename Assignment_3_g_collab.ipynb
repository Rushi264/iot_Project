{
  "nbformat": 4,
  "nbformat_minor": 0,
  "metadata": {
    "colab": {
      "provenance": [],
      "toc_visible": true
    },
    "kernelspec": {
      "name": "python3",
      "display_name": "Python 3"
    },
    "language_info": {
      "name": "python"
    }
  },
  "cells": [
    {
      "cell_type": "code",
      "source": [
        "# STEP 1: Install required libraries\n",
        "!pip install requests"
      ],
      "metadata": {
        "colab": {
          "base_uri": "https://localhost:8080/"
        },
        "id": "sCEqBF6MkF8t",
        "outputId": "a93e16e3-36a2-4b7a-c541-55522d4b2088"
      },
      "execution_count": null,
      "outputs": [
        {
          "output_type": "stream",
          "name": "stdout",
          "text": [
            "Requirement already satisfied: requests in /usr/local/lib/python3.11/dist-packages (2.32.3)\n",
            "Requirement already satisfied: charset-normalizer<4,>=2 in /usr/local/lib/python3.11/dist-packages (from requests) (3.4.1)\n",
            "Requirement already satisfied: idna<4,>=2.5 in /usr/local/lib/python3.11/dist-packages (from requests) (3.10)\n",
            "Requirement already satisfied: urllib3<3,>=1.21.1 in /usr/local/lib/python3.11/dist-packages (from requests) (2.3.0)\n",
            "Requirement already satisfied: certifi>=2017.4.17 in /usr/local/lib/python3.11/dist-packages (from requests) (2025.1.31)\n"
          ]
        }
      ]
    },
    {
      "cell_type": "code",
      "source": [
        "# STEP 2: Import Libraries and Set Configuration\n",
        "import requests\n",
        "import random\n",
        "import time\n",
        "from datetime import datetime, timedelta\n",
        "\n",
        "API_KEY = \"82C72VKGF0TR7PJJ\"\n",
        "CHANNEL_ID = \"2894456\"\n",
        "THING_SPEAK_URL = \"https://api.thingspeak.com/update\"\n"
      ],
      "metadata": {
        "id": "jaJuF_oZkJ5J"
      },
      "execution_count": null,
      "outputs": []
    },
    {
      "cell_type": "code",
      "source": [
        "# STEP 3: Generate Random Sensor Data\n",
        "def generate_sensor_data():\n",
        "    return {\n",
        "        \"field1\": round(random.uniform(10, 40), 1),\n",
        "        \"field2\": round(random.uniform(10, 90), 1),\n",
        "        \"field3\": round(random.uniform(400, 1800), 1)\n",
        "    }\n"
      ],
      "metadata": {
        "id": "LDKluSEUkN0u"
      },
      "execution_count": null,
      "outputs": []
    },
    {
      "cell_type": "code",
      "source": [
        "# STEP 4: Send Sensor Data to ThingSpeak\n",
        "def send_data_to_thingspeak():\n",
        "    for _ in range(5):  # Send 5 readings\n",
        "        data = generate_sensor_data()\n",
        "        payload = {\n",
        "            \"api_key\": API_KEY,\n",
        "            **data\n",
        "        }\n",
        "        print(f\"Sending: {payload}\")\n",
        "        response = requests.post(THING_SPEAK_URL, data=payload)\n",
        "        print(f\"Response Code: {response.status_code} | Body: {response.text}\")\n",
        "        time.sleep(15)  # Wait 15 seconds to respect ThingSpeak rate limits\n",
        "\n",
        "send_data_to_thingspeak()\n"
      ],
      "metadata": {
        "colab": {
          "base_uri": "https://localhost:8080/"
        },
        "id": "9g4nu39jkPHa",
        "outputId": "11a96236-8757-490e-b344-ad6f0cf2a14e"
      },
      "execution_count": null,
      "outputs": [
        {
          "output_type": "stream",
          "name": "stdout",
          "text": [
            "Sending: {'api_key': '82C72VKGF0TR7PJJ', 'field1': 11.9, 'field2': 62.1, 'field3': 1442.0}\n",
            "Response Code: 200 | Body: 7\n",
            "Sending: {'api_key': '82C72VKGF0TR7PJJ', 'field1': 36.4, 'field2': 66.2, 'field3': 1427.4}\n",
            "Response Code: 200 | Body: 8\n",
            "Sending: {'api_key': '82C72VKGF0TR7PJJ', 'field1': 17.1, 'field2': 61.3, 'field3': 536.5}\n",
            "Response Code: 200 | Body: 9\n",
            "Sending: {'api_key': '82C72VKGF0TR7PJJ', 'field1': 13.9, 'field2': 45.8, 'field3': 432.2}\n",
            "Response Code: 200 | Body: 10\n",
            "Sending: {'api_key': '82C72VKGF0TR7PJJ', 'field1': 29.2, 'field2': 83.9, 'field3': 415.9}\n",
            "Response Code: 200 | Body: 11\n"
          ]
        }
      ]
    },
    {
      "cell_type": "code",
      "source": [
        "# STEP 5: Display Sensor Data from Last 5 Hours (Specific Sensor)\n",
        "READ_API_KEY = \"0AUWKIAQO4AINI71\"\n",
        "\n",
        "def get_last_5_hours(sensor_field=\"field3\"):\n",
        "    url = f\"https://api.thingspeak.com/channels/{CHANNEL_ID}/feeds.json?api_key={READ_API_KEY}&results=100\"\n",
        "    response = requests.get(url)\n",
        "\n",
        "    if response.status_code == 200:\n",
        "        feeds = response.json().get('feeds', [])\n",
        "        print(f\"📈 {sensor_field} Data in Last 5 Hours:\")\n",
        "\n",
        "        for feed in feeds:\n",
        "            value = feed.get(sensor_field)\n",
        "            if value is not None:\n",
        "                timestamp = datetime.strptime(feed['created_at'], \"%Y-%m-%dT%H:%M:%SZ\")\n",
        "                if datetime.utcnow() - timestamp <= timedelta(hours=5):\n",
        "                    print(f\"{timestamp} => {sensor_field}: {value}\")\n",
        "    else:\n",
        "        print(\"❌ Error fetching data. Status:\", response.status_code)\n",
        "\n",
        "# Try again:\n",
        "get_last_5_hours(\"field3\")\n"
      ],
      "metadata": {
        "colab": {
          "base_uri": "https://localhost:8080/"
        },
        "id": "XA_A1gsmkU1q",
        "outputId": "3609eedc-47f7-4f21-a8e2-059e233af73f"
      },
      "execution_count": null,
      "outputs": [
        {
          "output_type": "stream",
          "name": "stdout",
          "text": [
            "📈 field3 Data in Last 5 Hours:\n",
            "2025-03-27 03:16:56 => field3: 1424.8\n",
            "2025-03-27 03:17:11 => field3: 1000.9\n",
            "2025-03-27 03:17:27 => field3: 739.4\n",
            "2025-03-27 03:17:42 => field3: 1496.0\n",
            "2025-03-27 03:17:57 => field3: 1045.1\n",
            "2025-03-27 03:18:24 => field3: 1000\n",
            "2025-03-27 03:26:47 => field3: 1442.0\n",
            "2025-03-27 03:27:02 => field3: 1427.4\n",
            "2025-03-27 03:27:17 => field3: 536.5\n",
            "2025-03-27 03:27:33 => field3: 432.2\n",
            "2025-03-27 03:27:48 => field3: 415.9\n"
          ]
        }
      ]
    },
    {
      "cell_type": "code",
      "source": [
        "# STEP 6: Get Latest Sensor Data\n",
        "def get_latest_values():\n",
        "    url = f\"https://api.thingspeak.com/channels/{CHANNEL_ID}/feeds.json?api_key={READ_API_KEY}&results=1\"\n",
        "    response = requests.get(url)\n",
        "    if response.status_code == 200:\n",
        "        latest = response.json()['feeds'][0]\n",
        "        print(\"📊 Latest Sensor Data:\")\n",
        "        print(f\"Timestamp: {latest['created_at']}\")\n",
        "        print(f\"Temperature: {latest['field1']} °C\")\n",
        "        print(f\"Humidity: {latest['field2']} %\")\n",
        "        print(f\"CO₂: {latest['field3']} ppm\")\n",
        "    else:\n",
        "        print(\"❌ Error fetching data\")\n",
        "\n"
      ],
      "metadata": {
        "id": "sWoAq6XhkTTD"
      },
      "execution_count": null,
      "outputs": []
    }
  ]
}